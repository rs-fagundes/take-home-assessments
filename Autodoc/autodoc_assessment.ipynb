{
 "cells": [
  {
   "cell_type": "code",
   "execution_count": 1,
   "id": "f732641c",
   "metadata": {},
   "outputs": [],
   "source": [
    "import pandas as pd\n",
    "import plotly.graph_objects as go\n",
    "\n",
    "pd.set_option('display.max_colwidth', None)"
   ]
  },
  {
   "cell_type": "code",
   "execution_count": 2,
   "id": "b2f22cd9",
   "metadata": {},
   "outputs": [],
   "source": [
    "file_path = r'C:\\Users\\RafaelFagundes\\OneDrive - Emma Sleep GmbH\\Desktop\\DA Assignment_NEW (5) (2)\\DA Assignment_NEW\\data_set_da_test\\data_set_da_test.csv'\n",
    "\n",
    "df = pd.read_csv(file_path)"
   ]
  },
  {
   "cell_type": "markdown",
   "id": "b1d9b5c1",
   "metadata": {},
   "source": [
    "### Exploratory Data Analysis"
   ]
  },
  {
   "cell_type": "code",
   "execution_count": 3,
   "id": "f539db3a",
   "metadata": {},
   "outputs": [
    {
     "name": "stdout",
     "output_type": "stream",
     "text": [
      "<class 'pandas.core.frame.DataFrame'>\n",
      "RangeIndex: 637238 entries, 0 to 637237\n",
      "Data columns (total 6 columns):\n",
      " #   Column      Non-Null Count   Dtype \n",
      "---  ------      --------------   ----- \n",
      " 0   event_date  637238 non-null  object\n",
      " 1   session     637238 non-null  object\n",
      " 2   user        637238 non-null  object\n",
      " 3   page_type   637238 non-null  object\n",
      " 4   event_type  637238 non-null  object\n",
      " 5   product     637238 non-null  int64 \n",
      "dtypes: int64(1), object(5)\n",
      "memory usage: 29.2+ MB\n"
     ]
    }
   ],
   "source": [
    "df.info()"
   ]
  },
  {
   "cell_type": "code",
   "execution_count": 4,
   "id": "c7816510",
   "metadata": {},
   "outputs": [
    {
     "data": {
      "text/html": [
       "<div>\n",
       "<style scoped>\n",
       "    .dataframe tbody tr th:only-of-type {\n",
       "        vertical-align: middle;\n",
       "    }\n",
       "\n",
       "    .dataframe tbody tr th {\n",
       "        vertical-align: top;\n",
       "    }\n",
       "\n",
       "    .dataframe thead th {\n",
       "        text-align: right;\n",
       "    }\n",
       "</style>\n",
       "<table border=\"1\" class=\"dataframe\">\n",
       "  <thead>\n",
       "    <tr style=\"text-align: right;\">\n",
       "      <th></th>\n",
       "      <th>event_date</th>\n",
       "      <th>session</th>\n",
       "      <th>user</th>\n",
       "      <th>page_type</th>\n",
       "      <th>event_type</th>\n",
       "      <th>product</th>\n",
       "    </tr>\n",
       "  </thead>\n",
       "  <tbody>\n",
       "    <tr>\n",
       "      <th>0</th>\n",
       "      <td>2022-10-08 17:02:41</td>\n",
       "      <td>14274187577460658115s</td>\n",
       "      <td>2006979063809820329u</td>\n",
       "      <td>search_listing_page</td>\n",
       "      <td>page_view</td>\n",
       "      <td>0</td>\n",
       "    </tr>\n",
       "    <tr>\n",
       "      <th>1</th>\n",
       "      <td>2022-10-08 17:06:19</td>\n",
       "      <td>14274187577460658115s</td>\n",
       "      <td>2006979063809820329u</td>\n",
       "      <td>search_listing_page</td>\n",
       "      <td>page_view</td>\n",
       "      <td>0</td>\n",
       "    </tr>\n",
       "    <tr>\n",
       "      <th>2</th>\n",
       "      <td>2022-10-08 22:19:47</td>\n",
       "      <td>2704204808571844605s</td>\n",
       "      <td>2007646148110679693u</td>\n",
       "      <td>listing_page</td>\n",
       "      <td>page_view</td>\n",
       "      <td>0</td>\n",
       "    </tr>\n",
       "    <tr>\n",
       "      <th>3</th>\n",
       "      <td>2022-10-08 22:24:30</td>\n",
       "      <td>8970170322512311099s</td>\n",
       "      <td>11839491588321754710u</td>\n",
       "      <td>search_listing_page</td>\n",
       "      <td>page_view</td>\n",
       "      <td>0</td>\n",
       "    </tr>\n",
       "    <tr>\n",
       "      <th>4</th>\n",
       "      <td>2022-10-08 21:22:20</td>\n",
       "      <td>16223970371660715740s</td>\n",
       "      <td>11839887495958431209u</td>\n",
       "      <td>product_page</td>\n",
       "      <td>page_view</td>\n",
       "      <td>0</td>\n",
       "    </tr>\n",
       "  </tbody>\n",
       "</table>\n",
       "</div>"
      ],
      "text/plain": [
       "            event_date                session                   user  \\\n",
       "0  2022-10-08 17:02:41  14274187577460658115s   2006979063809820329u   \n",
       "1  2022-10-08 17:06:19  14274187577460658115s   2006979063809820329u   \n",
       "2  2022-10-08 22:19:47   2704204808571844605s   2007646148110679693u   \n",
       "3  2022-10-08 22:24:30   8970170322512311099s  11839491588321754710u   \n",
       "4  2022-10-08 21:22:20  16223970371660715740s  11839887495958431209u   \n",
       "\n",
       "             page_type event_type  product  \n",
       "0  search_listing_page  page_view        0  \n",
       "1  search_listing_page  page_view        0  \n",
       "2         listing_page  page_view        0  \n",
       "3  search_listing_page  page_view        0  \n",
       "4         product_page  page_view        0  "
      ]
     },
     "execution_count": 4,
     "metadata": {},
     "output_type": "execute_result"
    }
   ],
   "source": [
    "df.head()"
   ]
  },
  {
   "cell_type": "code",
   "execution_count": 5,
   "id": "8d8467e3",
   "metadata": {},
   "outputs": [
    {
     "data": {
      "text/plain": [
       "event_type\n",
       "page_view      612498\n",
       "add_to_cart     15999\n",
       "order            8741\n",
       "Name: count, dtype: int64"
      ]
     },
     "execution_count": 5,
     "metadata": {},
     "output_type": "execute_result"
    }
   ],
   "source": [
    "df['event_type'].value_counts()"
   ]
  },
  {
   "cell_type": "code",
   "execution_count": 6,
   "id": "6d6a8730",
   "metadata": {},
   "outputs": [
    {
     "data": {
      "text/plain": [
       "page_type\n",
       "product_page           282950\n",
       "listing_page           231789\n",
       "search_listing_page    113758\n",
       "order_page               8741\n",
       "Name: count, dtype: int64"
      ]
     },
     "execution_count": 6,
     "metadata": {},
     "output_type": "execute_result"
    }
   ],
   "source": [
    "df['page_type'].value_counts()"
   ]
  },
  {
   "cell_type": "code",
   "execution_count": 7,
   "id": "11a96726",
   "metadata": {},
   "outputs": [
    {
     "data": {
      "text/plain": [
       "340443"
      ]
     },
     "execution_count": 7,
     "metadata": {},
     "output_type": "execute_result"
    }
   ],
   "source": [
    "df['session'].nunique()"
   ]
  },
  {
   "cell_type": "code",
   "execution_count": 8,
   "id": "f0d01f16",
   "metadata": {},
   "outputs": [
    {
     "data": {
      "text/plain": [
       "288088"
      ]
     },
     "execution_count": 8,
     "metadata": {},
     "output_type": "execute_result"
    }
   ],
   "source": [
    "df['user'].nunique()"
   ]
  },
  {
   "cell_type": "markdown",
   "id": "ceeb3b24",
   "metadata": {},
   "source": [
    "### Custom Purchase Funnel (User Journey Analysis)"
   ]
  },
  {
   "cell_type": "code",
   "execution_count": 9,
   "id": "53dd848f",
   "metadata": {},
   "outputs": [],
   "source": [
    "df['page_event_type'] = df['page_type'] + \" (\" + df['event_type'] + \")\""
   ]
  },
  {
   "cell_type": "code",
   "execution_count": 10,
   "id": "cbab5ba3",
   "metadata": {},
   "outputs": [
    {
     "data": {
      "text/plain": [
       "page_event_type\n",
       "product_page (page_view)             270750\n",
       "listing_page (page_view)             231263\n",
       "search_listing_page (page_view)      110485\n",
       "product_page (add_to_cart)            12200\n",
       "order_page (order)                     8741\n",
       "search_listing_page (add_to_cart)      3273\n",
       "listing_page (add_to_cart)              526\n",
       "Name: count, dtype: int64"
      ]
     },
     "execution_count": 10,
     "metadata": {},
     "output_type": "execute_result"
    }
   ],
   "source": [
    "df['page_event_type'].value_counts()"
   ]
  },
  {
   "cell_type": "code",
   "execution_count": 11,
   "id": "c4d1a879",
   "metadata": {},
   "outputs": [
    {
     "data": {
      "text/html": [
       "<div>\n",
       "<style scoped>\n",
       "    .dataframe tbody tr th:only-of-type {\n",
       "        vertical-align: middle;\n",
       "    }\n",
       "\n",
       "    .dataframe tbody tr th {\n",
       "        vertical-align: top;\n",
       "    }\n",
       "\n",
       "    .dataframe thead th {\n",
       "        text-align: right;\n",
       "    }\n",
       "</style>\n",
       "<table border=\"1\" class=\"dataframe\">\n",
       "  <thead>\n",
       "    <tr style=\"text-align: right;\">\n",
       "      <th></th>\n",
       "      <th>page_event_type</th>\n",
       "      <th>session</th>\n",
       "    </tr>\n",
       "  </thead>\n",
       "  <tbody>\n",
       "    <tr>\n",
       "      <th>1</th>\n",
       "      <td>listing_page (page_view)</td>\n",
       "      <td>180929</td>\n",
       "    </tr>\n",
       "    <tr>\n",
       "      <th>4</th>\n",
       "      <td>product_page (page_view)</td>\n",
       "      <td>162773</td>\n",
       "    </tr>\n",
       "    <tr>\n",
       "      <th>6</th>\n",
       "      <td>search_listing_page (page_view)</td>\n",
       "      <td>32489</td>\n",
       "    </tr>\n",
       "    <tr>\n",
       "      <th>3</th>\n",
       "      <td>product_page (add_to_cart)</td>\n",
       "      <td>8879</td>\n",
       "    </tr>\n",
       "    <tr>\n",
       "      <th>2</th>\n",
       "      <td>order_page (order)</td>\n",
       "      <td>7637</td>\n",
       "    </tr>\n",
       "    <tr>\n",
       "      <th>5</th>\n",
       "      <td>search_listing_page (add_to_cart)</td>\n",
       "      <td>1992</td>\n",
       "    </tr>\n",
       "    <tr>\n",
       "      <th>0</th>\n",
       "      <td>listing_page (add_to_cart)</td>\n",
       "      <td>386</td>\n",
       "    </tr>\n",
       "  </tbody>\n",
       "</table>\n",
       "</div>"
      ],
      "text/plain": [
       "                     page_event_type  session\n",
       "1           listing_page (page_view)   180929\n",
       "4           product_page (page_view)   162773\n",
       "6    search_listing_page (page_view)    32489\n",
       "3         product_page (add_to_cart)     8879\n",
       "2                 order_page (order)     7637\n",
       "5  search_listing_page (add_to_cart)     1992\n",
       "0         listing_page (add_to_cart)      386"
      ]
     },
     "execution_count": 11,
     "metadata": {},
     "output_type": "execute_result"
    }
   ],
   "source": [
    "df_funnel_order = df.groupby(['page_event_type'])['session'].nunique().reset_index().sort_values(by=['session'], ascending=False)\n",
    "\n",
    "df_funnel_order"
   ]
  },
  {
   "cell_type": "code",
   "execution_count": 12,
   "id": "d11335b8",
   "metadata": {},
   "outputs": [
    {
     "data": {
      "application/vnd.plotly.v1+json": {
       "config": {
        "plotlyServerURL": "https://plot.ly"
       },
       "data": [
        {
         "textinfo": "value+percent initial",
         "textposition": "inside",
         "type": "funnel",
         "x": [
          180929,
          162773,
          8879,
          7637
         ],
         "y": [
          "listing_page (page_view)",
          "product_page (page_view)",
          "product_page (add_to_cart)",
          "order_page (order)"
         ]
        }
       ],
       "layout": {
        "height": 500,
        "template": {
         "data": {
          "bar": [
           {
            "error_x": {
             "color": "#2a3f5f"
            },
            "error_y": {
             "color": "#2a3f5f"
            },
            "marker": {
             "line": {
              "color": "#E5ECF6",
              "width": 0.5
             },
             "pattern": {
              "fillmode": "overlay",
              "size": 10,
              "solidity": 0.2
             }
            },
            "type": "bar"
           }
          ],
          "barpolar": [
           {
            "marker": {
             "line": {
              "color": "#E5ECF6",
              "width": 0.5
             },
             "pattern": {
              "fillmode": "overlay",
              "size": 10,
              "solidity": 0.2
             }
            },
            "type": "barpolar"
           }
          ],
          "carpet": [
           {
            "aaxis": {
             "endlinecolor": "#2a3f5f",
             "gridcolor": "white",
             "linecolor": "white",
             "minorgridcolor": "white",
             "startlinecolor": "#2a3f5f"
            },
            "baxis": {
             "endlinecolor": "#2a3f5f",
             "gridcolor": "white",
             "linecolor": "white",
             "minorgridcolor": "white",
             "startlinecolor": "#2a3f5f"
            },
            "type": "carpet"
           }
          ],
          "choropleth": [
           {
            "colorbar": {
             "outlinewidth": 0,
             "ticks": ""
            },
            "type": "choropleth"
           }
          ],
          "contour": [
           {
            "colorbar": {
             "outlinewidth": 0,
             "ticks": ""
            },
            "colorscale": [
             [
              0,
              "#0d0887"
             ],
             [
              0.1111111111111111,
              "#46039f"
             ],
             [
              0.2222222222222222,
              "#7201a8"
             ],
             [
              0.3333333333333333,
              "#9c179e"
             ],
             [
              0.4444444444444444,
              "#bd3786"
             ],
             [
              0.5555555555555556,
              "#d8576b"
             ],
             [
              0.6666666666666666,
              "#ed7953"
             ],
             [
              0.7777777777777778,
              "#fb9f3a"
             ],
             [
              0.8888888888888888,
              "#fdca26"
             ],
             [
              1,
              "#f0f921"
             ]
            ],
            "type": "contour"
           }
          ],
          "contourcarpet": [
           {
            "colorbar": {
             "outlinewidth": 0,
             "ticks": ""
            },
            "type": "contourcarpet"
           }
          ],
          "heatmap": [
           {
            "colorbar": {
             "outlinewidth": 0,
             "ticks": ""
            },
            "colorscale": [
             [
              0,
              "#0d0887"
             ],
             [
              0.1111111111111111,
              "#46039f"
             ],
             [
              0.2222222222222222,
              "#7201a8"
             ],
             [
              0.3333333333333333,
              "#9c179e"
             ],
             [
              0.4444444444444444,
              "#bd3786"
             ],
             [
              0.5555555555555556,
              "#d8576b"
             ],
             [
              0.6666666666666666,
              "#ed7953"
             ],
             [
              0.7777777777777778,
              "#fb9f3a"
             ],
             [
              0.8888888888888888,
              "#fdca26"
             ],
             [
              1,
              "#f0f921"
             ]
            ],
            "type": "heatmap"
           }
          ],
          "histogram": [
           {
            "marker": {
             "pattern": {
              "fillmode": "overlay",
              "size": 10,
              "solidity": 0.2
             }
            },
            "type": "histogram"
           }
          ],
          "histogram2d": [
           {
            "colorbar": {
             "outlinewidth": 0,
             "ticks": ""
            },
            "colorscale": [
             [
              0,
              "#0d0887"
             ],
             [
              0.1111111111111111,
              "#46039f"
             ],
             [
              0.2222222222222222,
              "#7201a8"
             ],
             [
              0.3333333333333333,
              "#9c179e"
             ],
             [
              0.4444444444444444,
              "#bd3786"
             ],
             [
              0.5555555555555556,
              "#d8576b"
             ],
             [
              0.6666666666666666,
              "#ed7953"
             ],
             [
              0.7777777777777778,
              "#fb9f3a"
             ],
             [
              0.8888888888888888,
              "#fdca26"
             ],
             [
              1,
              "#f0f921"
             ]
            ],
            "type": "histogram2d"
           }
          ],
          "histogram2dcontour": [
           {
            "colorbar": {
             "outlinewidth": 0,
             "ticks": ""
            },
            "colorscale": [
             [
              0,
              "#0d0887"
             ],
             [
              0.1111111111111111,
              "#46039f"
             ],
             [
              0.2222222222222222,
              "#7201a8"
             ],
             [
              0.3333333333333333,
              "#9c179e"
             ],
             [
              0.4444444444444444,
              "#bd3786"
             ],
             [
              0.5555555555555556,
              "#d8576b"
             ],
             [
              0.6666666666666666,
              "#ed7953"
             ],
             [
              0.7777777777777778,
              "#fb9f3a"
             ],
             [
              0.8888888888888888,
              "#fdca26"
             ],
             [
              1,
              "#f0f921"
             ]
            ],
            "type": "histogram2dcontour"
           }
          ],
          "mesh3d": [
           {
            "colorbar": {
             "outlinewidth": 0,
             "ticks": ""
            },
            "type": "mesh3d"
           }
          ],
          "parcoords": [
           {
            "line": {
             "colorbar": {
              "outlinewidth": 0,
              "ticks": ""
             }
            },
            "type": "parcoords"
           }
          ],
          "pie": [
           {
            "automargin": true,
            "type": "pie"
           }
          ],
          "scatter": [
           {
            "fillpattern": {
             "fillmode": "overlay",
             "size": 10,
             "solidity": 0.2
            },
            "type": "scatter"
           }
          ],
          "scatter3d": [
           {
            "line": {
             "colorbar": {
              "outlinewidth": 0,
              "ticks": ""
             }
            },
            "marker": {
             "colorbar": {
              "outlinewidth": 0,
              "ticks": ""
             }
            },
            "type": "scatter3d"
           }
          ],
          "scattercarpet": [
           {
            "marker": {
             "colorbar": {
              "outlinewidth": 0,
              "ticks": ""
             }
            },
            "type": "scattercarpet"
           }
          ],
          "scattergeo": [
           {
            "marker": {
             "colorbar": {
              "outlinewidth": 0,
              "ticks": ""
             }
            },
            "type": "scattergeo"
           }
          ],
          "scattergl": [
           {
            "marker": {
             "colorbar": {
              "outlinewidth": 0,
              "ticks": ""
             }
            },
            "type": "scattergl"
           }
          ],
          "scattermap": [
           {
            "marker": {
             "colorbar": {
              "outlinewidth": 0,
              "ticks": ""
             }
            },
            "type": "scattermap"
           }
          ],
          "scattermapbox": [
           {
            "marker": {
             "colorbar": {
              "outlinewidth": 0,
              "ticks": ""
             }
            },
            "type": "scattermapbox"
           }
          ],
          "scatterpolar": [
           {
            "marker": {
             "colorbar": {
              "outlinewidth": 0,
              "ticks": ""
             }
            },
            "type": "scatterpolar"
           }
          ],
          "scatterpolargl": [
           {
            "marker": {
             "colorbar": {
              "outlinewidth": 0,
              "ticks": ""
             }
            },
            "type": "scatterpolargl"
           }
          ],
          "scatterternary": [
           {
            "marker": {
             "colorbar": {
              "outlinewidth": 0,
              "ticks": ""
             }
            },
            "type": "scatterternary"
           }
          ],
          "surface": [
           {
            "colorbar": {
             "outlinewidth": 0,
             "ticks": ""
            },
            "colorscale": [
             [
              0,
              "#0d0887"
             ],
             [
              0.1111111111111111,
              "#46039f"
             ],
             [
              0.2222222222222222,
              "#7201a8"
             ],
             [
              0.3333333333333333,
              "#9c179e"
             ],
             [
              0.4444444444444444,
              "#bd3786"
             ],
             [
              0.5555555555555556,
              "#d8576b"
             ],
             [
              0.6666666666666666,
              "#ed7953"
             ],
             [
              0.7777777777777778,
              "#fb9f3a"
             ],
             [
              0.8888888888888888,
              "#fdca26"
             ],
             [
              1,
              "#f0f921"
             ]
            ],
            "type": "surface"
           }
          ],
          "table": [
           {
            "cells": {
             "fill": {
              "color": "#EBF0F8"
             },
             "line": {
              "color": "white"
             }
            },
            "header": {
             "fill": {
              "color": "#C8D4E3"
             },
             "line": {
              "color": "white"
             }
            },
            "type": "table"
           }
          ]
         },
         "layout": {
          "annotationdefaults": {
           "arrowcolor": "#2a3f5f",
           "arrowhead": 0,
           "arrowwidth": 1
          },
          "autotypenumbers": "strict",
          "coloraxis": {
           "colorbar": {
            "outlinewidth": 0,
            "ticks": ""
           }
          },
          "colorscale": {
           "diverging": [
            [
             0,
             "#8e0152"
            ],
            [
             0.1,
             "#c51b7d"
            ],
            [
             0.2,
             "#de77ae"
            ],
            [
             0.3,
             "#f1b6da"
            ],
            [
             0.4,
             "#fde0ef"
            ],
            [
             0.5,
             "#f7f7f7"
            ],
            [
             0.6,
             "#e6f5d0"
            ],
            [
             0.7,
             "#b8e186"
            ],
            [
             0.8,
             "#7fbc41"
            ],
            [
             0.9,
             "#4d9221"
            ],
            [
             1,
             "#276419"
            ]
           ],
           "sequential": [
            [
             0,
             "#0d0887"
            ],
            [
             0.1111111111111111,
             "#46039f"
            ],
            [
             0.2222222222222222,
             "#7201a8"
            ],
            [
             0.3333333333333333,
             "#9c179e"
            ],
            [
             0.4444444444444444,
             "#bd3786"
            ],
            [
             0.5555555555555556,
             "#d8576b"
            ],
            [
             0.6666666666666666,
             "#ed7953"
            ],
            [
             0.7777777777777778,
             "#fb9f3a"
            ],
            [
             0.8888888888888888,
             "#fdca26"
            ],
            [
             1,
             "#f0f921"
            ]
           ],
           "sequentialminus": [
            [
             0,
             "#0d0887"
            ],
            [
             0.1111111111111111,
             "#46039f"
            ],
            [
             0.2222222222222222,
             "#7201a8"
            ],
            [
             0.3333333333333333,
             "#9c179e"
            ],
            [
             0.4444444444444444,
             "#bd3786"
            ],
            [
             0.5555555555555556,
             "#d8576b"
            ],
            [
             0.6666666666666666,
             "#ed7953"
            ],
            [
             0.7777777777777778,
             "#fb9f3a"
            ],
            [
             0.8888888888888888,
             "#fdca26"
            ],
            [
             1,
             "#f0f921"
            ]
           ]
          },
          "colorway": [
           "#636efa",
           "#EF553B",
           "#00cc96",
           "#ab63fa",
           "#FFA15A",
           "#19d3f3",
           "#FF6692",
           "#B6E880",
           "#FF97FF",
           "#FECB52"
          ],
          "font": {
           "color": "#2a3f5f"
          },
          "geo": {
           "bgcolor": "white",
           "lakecolor": "white",
           "landcolor": "#E5ECF6",
           "showlakes": true,
           "showland": true,
           "subunitcolor": "white"
          },
          "hoverlabel": {
           "align": "left"
          },
          "hovermode": "closest",
          "mapbox": {
           "style": "light"
          },
          "paper_bgcolor": "white",
          "plot_bgcolor": "#E5ECF6",
          "polar": {
           "angularaxis": {
            "gridcolor": "white",
            "linecolor": "white",
            "ticks": ""
           },
           "bgcolor": "#E5ECF6",
           "radialaxis": {
            "gridcolor": "white",
            "linecolor": "white",
            "ticks": ""
           }
          },
          "scene": {
           "xaxis": {
            "backgroundcolor": "#E5ECF6",
            "gridcolor": "white",
            "gridwidth": 2,
            "linecolor": "white",
            "showbackground": true,
            "ticks": "",
            "zerolinecolor": "white"
           },
           "yaxis": {
            "backgroundcolor": "#E5ECF6",
            "gridcolor": "white",
            "gridwidth": 2,
            "linecolor": "white",
            "showbackground": true,
            "ticks": "",
            "zerolinecolor": "white"
           },
           "zaxis": {
            "backgroundcolor": "#E5ECF6",
            "gridcolor": "white",
            "gridwidth": 2,
            "linecolor": "white",
            "showbackground": true,
            "ticks": "",
            "zerolinecolor": "white"
           }
          },
          "shapedefaults": {
           "line": {
            "color": "#2a3f5f"
           }
          },
          "ternary": {
           "aaxis": {
            "gridcolor": "white",
            "linecolor": "white",
            "ticks": ""
           },
           "baxis": {
            "gridcolor": "white",
            "linecolor": "white",
            "ticks": ""
           },
           "bgcolor": "#E5ECF6",
           "caxis": {
            "gridcolor": "white",
            "linecolor": "white",
            "ticks": ""
           }
          },
          "title": {
           "x": 0.05
          },
          "xaxis": {
           "automargin": true,
           "gridcolor": "white",
           "linecolor": "white",
           "ticks": "",
           "title": {
            "standoff": 15
           },
           "zerolinecolor": "white",
           "zerolinewidth": 2
          },
          "yaxis": {
           "automargin": true,
           "gridcolor": "white",
           "linecolor": "white",
           "ticks": "",
           "title": {
            "standoff": 15
           },
           "zerolinecolor": "white",
           "zerolinewidth": 2
          }
         }
        },
        "title": {
         "text": "How Users Progress Through the Purchase Funnel"
        },
        "width": 1000
       }
      }
     },
     "metadata": {},
     "output_type": "display_data"
    }
   ],
   "source": [
    "stages = [\n",
    "    \"listing_page (page_view)\",\n",
    "    \"product_page (page_view)\",\n",
    "    \"product_page (add_to_cart)\",\n",
    "    \"order_page (order)\",\n",
    "]\n",
    "\n",
    "values = [180929, 162773, 8879, 7637]\n",
    "\n",
    "fig = go.Figure(\n",
    "    go.Funnel(\n",
    "        y=stages,\n",
    "        x=values,\n",
    "        textinfo=\"value+percent initial\",\n",
    "        textposition=\"inside\",\n",
    "    )\n",
    ")\n",
    "\n",
    "fig.update_layout(\n",
    "    title=\"How Users Progress Through the Purchase Funnel\",\n",
    "    width=1000,\n",
    "    height=500,\n",
    ")\n",
    "fig.show()"
   ]
  },
  {
   "cell_type": "markdown",
   "id": "b31c929a",
   "metadata": {},
   "source": [
    "### How the Journey Varies by Entry Page\n"
   ]
  },
  {
   "cell_type": "code",
   "execution_count": 13,
   "id": "20678fb5",
   "metadata": {},
   "outputs": [
    {
     "data": {
      "text/html": [
       "<div>\n",
       "<style scoped>\n",
       "    .dataframe tbody tr th:only-of-type {\n",
       "        vertical-align: middle;\n",
       "    }\n",
       "\n",
       "    .dataframe tbody tr th {\n",
       "        vertical-align: top;\n",
       "    }\n",
       "\n",
       "    .dataframe thead th {\n",
       "        text-align: right;\n",
       "    }\n",
       "</style>\n",
       "<table border=\"1\" class=\"dataframe\">\n",
       "  <thead>\n",
       "    <tr style=\"text-align: right;\">\n",
       "      <th></th>\n",
       "      <th>first_page_type</th>\n",
       "      <th>page_viewed</th>\n",
       "      <th>added_to_cart</th>\n",
       "      <th>ordered</th>\n",
       "      <th>page_view_distribution_%</th>\n",
       "      <th>add_to_cart_rate_%</th>\n",
       "      <th>order_conversion_rate_%</th>\n",
       "      <th>drop_off_rate_%</th>\n",
       "    </tr>\n",
       "  </thead>\n",
       "  <tbody>\n",
       "    <tr>\n",
       "      <th>0</th>\n",
       "      <td>listing_page</td>\n",
       "      <td>176831</td>\n",
       "      <td>3053</td>\n",
       "      <td>2358</td>\n",
       "      <td>0.521095</td>\n",
       "      <td>0.017265</td>\n",
       "      <td>0.013335</td>\n",
       "      <td>0.986665</td>\n",
       "    </tr>\n",
       "    <tr>\n",
       "      <th>2</th>\n",
       "      <td>product_page</td>\n",
       "      <td>146864</td>\n",
       "      <td>6564</td>\n",
       "      <td>3341</td>\n",
       "      <td>0.432787</td>\n",
       "      <td>0.044694</td>\n",
       "      <td>0.022749</td>\n",
       "      <td>0.977251</td>\n",
       "    </tr>\n",
       "    <tr>\n",
       "      <th>3</th>\n",
       "      <td>search_listing_page</td>\n",
       "      <td>15283</td>\n",
       "      <td>1040</td>\n",
       "      <td>539</td>\n",
       "      <td>0.045037</td>\n",
       "      <td>0.068049</td>\n",
       "      <td>0.035268</td>\n",
       "      <td>0.964732</td>\n",
       "    </tr>\n",
       "  </tbody>\n",
       "</table>\n",
       "</div>"
      ],
      "text/plain": [
       "       first_page_type  page_viewed  added_to_cart  ordered  \\\n",
       "0         listing_page       176831           3053     2358   \n",
       "2         product_page       146864           6564     3341   \n",
       "3  search_listing_page        15283           1040      539   \n",
       "\n",
       "   page_view_distribution_%  add_to_cart_rate_%  order_conversion_rate_%  \\\n",
       "0                  0.521095            0.017265                 0.013335   \n",
       "2                  0.432787            0.044694                 0.022749   \n",
       "3                  0.045037            0.068049                 0.035268   \n",
       "\n",
       "   drop_off_rate_%  \n",
       "0         0.986665  \n",
       "2         0.977251  \n",
       "3         0.964732  "
      ]
     },
     "execution_count": 13,
     "metadata": {},
     "output_type": "execute_result"
    }
   ],
   "source": [
    "funnel = df.pivot_table(\n",
    "    index=\"session\",\n",
    "    columns=\"event_type\",\n",
    "    values=\"event_date\",\n",
    "    aggfunc=\"count\",\n",
    "    fill_value=0,\n",
    ").reset_index()\n",
    "\n",
    "funnel[\"page_viewed\"] = funnel[\"page_view\"] > 0\n",
    "funnel[\"added_to_cart\"] = funnel[\"add_to_cart\"] > 0\n",
    "funnel[\"ordered\"] = funnel[\"order\"] > 0\n",
    "\n",
    "\n",
    "df_sorted = df.sort_values([\"session\", \"event_date\"])\n",
    "\n",
    "\n",
    "first_page_type = (\n",
    "    df_sorted.groupby(\"session\").first().reset_index()[[\"session\", \"page_type\"]]\n",
    ")\n",
    "\n",
    "\n",
    "first_page_type.rename(columns={\"page_type\": \"first_page_type\"}, inplace=True)\n",
    "\n",
    "\n",
    "funnel = funnel.merge(first_page_type, on=\"session\", how=\"left\")\n",
    "\n",
    "\n",
    "\n",
    "sessions_by_first_page = (\n",
    "    funnel.groupby(\"first_page_type\")\n",
    "    .agg({\"page_viewed\": \"sum\", \"added_to_cart\": \"sum\", \"ordered\": \"sum\"})\n",
    "    .reset_index()\n",
    ")\n",
    "\n",
    "\n",
    "sessions_by_first_page[\"add_to_cart_rate_%\"] = (\n",
    "    sessions_by_first_page[\"added_to_cart\"] / sessions_by_first_page[\"page_viewed\"]\n",
    ")\n",
    "sessions_by_first_page[\"order_conversion_rate_%\"] = (\n",
    "    sessions_by_first_page[\"ordered\"] / sessions_by_first_page[\"page_viewed\"]\n",
    ")\n",
    "\n",
    "\n",
    "sessions_by_first_page[\"page_view_distribution_%\"] = (\n",
    "    sessions_by_first_page[\"page_viewed\"] / sessions_by_first_page[\"page_viewed\"].sum()\n",
    ")\n",
    "\n",
    "\n",
    "sessions_by_first_page[\"drop_off_rate_%\"] = (\n",
    "    1 - sessions_by_first_page[\"order_conversion_rate_%\"]\n",
    ")\n",
    "\n",
    "sessions_by_first_page = sessions_by_first_page[\n",
    "    sessions_by_first_page[\"first_page_type\"] != \"order_page\"\n",
    "]\n",
    "\n",
    "\n",
    "\n",
    "sessions_by_first_page = sessions_by_first_page[\n",
    "    [\n",
    "        \"first_page_type\",\n",
    "        \"page_viewed\",\n",
    "        \"added_to_cart\",\n",
    "        \"ordered\",\n",
    "        \"page_view_distribution_%\",\n",
    "        \"add_to_cart_rate_%\",\n",
    "        \"order_conversion_rate_%\",\n",
    "        \"drop_off_rate_%\",\n",
    "    ]\n",
    "]\n",
    "\n",
    "\n",
    "sessions_by_first_page"
   ]
  },
  {
   "cell_type": "code",
   "execution_count": 38,
   "id": "21ffbdd0",
   "metadata": {},
   "outputs": [
    {
     "data": {
      "text/html": [
       "<div>\n",
       "<style scoped>\n",
       "    .dataframe tbody tr th:only-of-type {\n",
       "        vertical-align: middle;\n",
       "    }\n",
       "\n",
       "    .dataframe tbody tr th {\n",
       "        vertical-align: top;\n",
       "    }\n",
       "\n",
       "    .dataframe thead th {\n",
       "        text-align: right;\n",
       "    }\n",
       "</style>\n",
       "<table border=\"1\" class=\"dataframe\">\n",
       "  <thead>\n",
       "    <tr style=\"text-align: right;\">\n",
       "      <th></th>\n",
       "      <th>session</th>\n",
       "      <th>add_to_cart</th>\n",
       "      <th>order</th>\n",
       "      <th>page_view</th>\n",
       "      <th>page_viewed</th>\n",
       "      <th>added_to_cart</th>\n",
       "      <th>ordered</th>\n",
       "      <th>first_page_type</th>\n",
       "    </tr>\n",
       "  </thead>\n",
       "  <tbody>\n",
       "    <tr>\n",
       "      <th>0</th>\n",
       "      <td>10000000052138714153s</td>\n",
       "      <td>0</td>\n",
       "      <td>0</td>\n",
       "      <td>1</td>\n",
       "      <td>True</td>\n",
       "      <td>False</td>\n",
       "      <td>False</td>\n",
       "      <td>search_listing_page</td>\n",
       "    </tr>\n",
       "    <tr>\n",
       "      <th>1</th>\n",
       "      <td>10000003251787879077s</td>\n",
       "      <td>0</td>\n",
       "      <td>0</td>\n",
       "      <td>2</td>\n",
       "      <td>True</td>\n",
       "      <td>False</td>\n",
       "      <td>False</td>\n",
       "      <td>search_listing_page</td>\n",
       "    </tr>\n",
       "    <tr>\n",
       "      <th>2</th>\n",
       "      <td>10000028460721229362s</td>\n",
       "      <td>0</td>\n",
       "      <td>0</td>\n",
       "      <td>2</td>\n",
       "      <td>True</td>\n",
       "      <td>False</td>\n",
       "      <td>False</td>\n",
       "      <td>listing_page</td>\n",
       "    </tr>\n",
       "    <tr>\n",
       "      <th>3</th>\n",
       "      <td>10000145746398845278s</td>\n",
       "      <td>0</td>\n",
       "      <td>0</td>\n",
       "      <td>1</td>\n",
       "      <td>True</td>\n",
       "      <td>False</td>\n",
       "      <td>False</td>\n",
       "      <td>listing_page</td>\n",
       "    </tr>\n",
       "    <tr>\n",
       "      <th>4</th>\n",
       "      <td>1000015740551295390s</td>\n",
       "      <td>0</td>\n",
       "      <td>0</td>\n",
       "      <td>1</td>\n",
       "      <td>True</td>\n",
       "      <td>False</td>\n",
       "      <td>False</td>\n",
       "      <td>listing_page</td>\n",
       "    </tr>\n",
       "    <tr>\n",
       "      <th>...</th>\n",
       "      <td>...</td>\n",
       "      <td>...</td>\n",
       "      <td>...</td>\n",
       "      <td>...</td>\n",
       "      <td>...</td>\n",
       "      <td>...</td>\n",
       "      <td>...</td>\n",
       "      <td>...</td>\n",
       "    </tr>\n",
       "    <tr>\n",
       "      <th>340438</th>\n",
       "      <td>9999792208481548234s</td>\n",
       "      <td>0</td>\n",
       "      <td>0</td>\n",
       "      <td>1</td>\n",
       "      <td>True</td>\n",
       "      <td>False</td>\n",
       "      <td>False</td>\n",
       "      <td>product_page</td>\n",
       "    </tr>\n",
       "    <tr>\n",
       "      <th>340439</th>\n",
       "      <td>999979223279301185s</td>\n",
       "      <td>0</td>\n",
       "      <td>0</td>\n",
       "      <td>2</td>\n",
       "      <td>True</td>\n",
       "      <td>False</td>\n",
       "      <td>False</td>\n",
       "      <td>product_page</td>\n",
       "    </tr>\n",
       "    <tr>\n",
       "      <th>340440</th>\n",
       "      <td>9999886616992267320s</td>\n",
       "      <td>0</td>\n",
       "      <td>0</td>\n",
       "      <td>1</td>\n",
       "      <td>True</td>\n",
       "      <td>False</td>\n",
       "      <td>False</td>\n",
       "      <td>listing_page</td>\n",
       "    </tr>\n",
       "    <tr>\n",
       "      <th>340441</th>\n",
       "      <td>9999924110261829254s</td>\n",
       "      <td>0</td>\n",
       "      <td>0</td>\n",
       "      <td>1</td>\n",
       "      <td>True</td>\n",
       "      <td>False</td>\n",
       "      <td>False</td>\n",
       "      <td>listing_page</td>\n",
       "    </tr>\n",
       "    <tr>\n",
       "      <th>340442</th>\n",
       "      <td>9999958960225048932s</td>\n",
       "      <td>0</td>\n",
       "      <td>0</td>\n",
       "      <td>1</td>\n",
       "      <td>True</td>\n",
       "      <td>False</td>\n",
       "      <td>False</td>\n",
       "      <td>product_page</td>\n",
       "    </tr>\n",
       "  </tbody>\n",
       "</table>\n",
       "<p>340443 rows × 8 columns</p>\n",
       "</div>"
      ],
      "text/plain": [
       "                      session  add_to_cart  order  page_view  page_viewed  \\\n",
       "0       10000000052138714153s            0      0          1         True   \n",
       "1       10000003251787879077s            0      0          2         True   \n",
       "2       10000028460721229362s            0      0          2         True   \n",
       "3       10000145746398845278s            0      0          1         True   \n",
       "4        1000015740551295390s            0      0          1         True   \n",
       "...                       ...          ...    ...        ...          ...   \n",
       "340438   9999792208481548234s            0      0          1         True   \n",
       "340439    999979223279301185s            0      0          2         True   \n",
       "340440   9999886616992267320s            0      0          1         True   \n",
       "340441   9999924110261829254s            0      0          1         True   \n",
       "340442   9999958960225048932s            0      0          1         True   \n",
       "\n",
       "        added_to_cart  ordered      first_page_type  \n",
       "0               False    False  search_listing_page  \n",
       "1               False    False  search_listing_page  \n",
       "2               False    False         listing_page  \n",
       "3               False    False         listing_page  \n",
       "4               False    False         listing_page  \n",
       "...               ...      ...                  ...  \n",
       "340438          False    False         product_page  \n",
       "340439          False    False         product_page  \n",
       "340440          False    False         listing_page  \n",
       "340441          False    False         listing_page  \n",
       "340442          False    False         product_page  \n",
       "\n",
       "[340443 rows x 8 columns]"
      ]
     },
     "execution_count": 38,
     "metadata": {},
     "output_type": "execute_result"
    }
   ],
   "source": [
    "funnel"
   ]
  },
  {
   "cell_type": "code",
   "execution_count": 53,
   "id": "0102beae",
   "metadata": {},
   "outputs": [
    {
     "name": "stdout",
     "output_type": "stream",
     "text": [
      "2356\n",
      "27\n",
      "3415\n"
     ]
    }
   ],
   "source": [
    "abnormal = funnel[\n",
    "    (funnel[\"ordered\"] > 0) & ((funnel[\"add_to_cart\"] == 0) | (funnel[\"page_view\"] == 0))\n",
    "]\n",
    "\n",
    "print(abnormal['page_viewed'].sum())\n",
    "print(abnormal['added_to_cart'].sum())\n",
    "print(abnormal['ordered'].sum())"
   ]
  },
  {
   "cell_type": "code",
   "execution_count": 37,
   "id": "7bc38329",
   "metadata": {},
   "outputs": [
    {
     "data": {
      "text/html": [
       "<div>\n",
       "<style scoped>\n",
       "    .dataframe tbody tr th:only-of-type {\n",
       "        vertical-align: middle;\n",
       "    }\n",
       "\n",
       "    .dataframe tbody tr th {\n",
       "        vertical-align: top;\n",
       "    }\n",
       "\n",
       "    .dataframe thead th {\n",
       "        text-align: right;\n",
       "    }\n",
       "</style>\n",
       "<table border=\"1\" class=\"dataframe\">\n",
       "  <thead>\n",
       "    <tr style=\"text-align: right;\">\n",
       "      <th></th>\n",
       "      <th>path</th>\n",
       "      <th>count</th>\n",
       "    </tr>\n",
       "  </thead>\n",
       "  <tbody>\n",
       "    <tr>\n",
       "      <th>0</th>\n",
       "      <td>listing_page (page_view)</td>\n",
       "      <td>138601</td>\n",
       "    </tr>\n",
       "    <tr>\n",
       "      <th>1</th>\n",
       "      <td>product_page (page_view)</td>\n",
       "      <td>104762</td>\n",
       "    </tr>\n",
       "    <tr>\n",
       "      <th>2</th>\n",
       "      <td>product_page (page_view) &gt; product_page (page_view)</td>\n",
       "      <td>17680</td>\n",
       "    </tr>\n",
       "    <tr>\n",
       "      <th>3</th>\n",
       "      <td>listing_page (page_view) &gt; listing_page (page_view)</td>\n",
       "      <td>13561</td>\n",
       "    </tr>\n",
       "    <tr>\n",
       "      <th>4</th>\n",
       "      <td>product_page (page_view) &gt; product_page (page_view) &gt; product_page (page_view)</td>\n",
       "      <td>6028</td>\n",
       "    </tr>\n",
       "    <tr>\n",
       "      <th>5</th>\n",
       "      <td>search_listing_page (page_view)</td>\n",
       "      <td>5893</td>\n",
       "    </tr>\n",
       "    <tr>\n",
       "      <th>6</th>\n",
       "      <td>listing_page (page_view) &gt; listing_page (page_view) &gt; listing_page (page_view)</td>\n",
       "      <td>2743</td>\n",
       "    </tr>\n",
       "    <tr>\n",
       "      <th>7</th>\n",
       "      <td>product_page (page_view) &gt; product_page (page_view) &gt; product_page (page_view) &gt; product_page (page_view)</td>\n",
       "      <td>2466</td>\n",
       "    </tr>\n",
       "    <tr>\n",
       "      <th>8</th>\n",
       "      <td>listing_page (page_view) &gt; product_page (page_view)</td>\n",
       "      <td>2277</td>\n",
       "    </tr>\n",
       "    <tr>\n",
       "      <th>9</th>\n",
       "      <td>search_listing_page (page_view) &gt; search_listing_page (page_view)</td>\n",
       "      <td>1891</td>\n",
       "    </tr>\n",
       "    <tr>\n",
       "      <th>10</th>\n",
       "      <td>listing_page (page_view) &gt; search_listing_page (page_view)</td>\n",
       "      <td>1707</td>\n",
       "    </tr>\n",
       "    <tr>\n",
       "      <th>11</th>\n",
       "      <td>product_page (page_view) &gt; product_page (page_view) &gt; product_page (page_view) &gt; product_page (page_view) &gt; product_page (page_view)</td>\n",
       "      <td>1271</td>\n",
       "    </tr>\n",
       "    <tr>\n",
       "      <th>12</th>\n",
       "      <td>search_listing_page (page_view) &gt; search_listing_page (page_view) &gt; search_listing_page (page_view)</td>\n",
       "      <td>1227</td>\n",
       "    </tr>\n",
       "    <tr>\n",
       "      <th>13</th>\n",
       "      <td>order_page (order)</td>\n",
       "      <td>943</td>\n",
       "    </tr>\n",
       "    <tr>\n",
       "      <th>14</th>\n",
       "      <td>listing_page (page_view) &gt; listing_page (page_view) &gt; listing_page (page_view) &gt; listing_page (page_view)</td>\n",
       "      <td>934</td>\n",
       "    </tr>\n",
       "  </tbody>\n",
       "</table>\n",
       "</div>"
      ],
      "text/plain": [
       "                                                                                                                                    path  \\\n",
       "0                                                                                                               listing_page (page_view)   \n",
       "1                                                                                                               product_page (page_view)   \n",
       "2                                                                                    product_page (page_view) > product_page (page_view)   \n",
       "3                                                                                    listing_page (page_view) > listing_page (page_view)   \n",
       "4                                                         product_page (page_view) > product_page (page_view) > product_page (page_view)   \n",
       "5                                                                                                        search_listing_page (page_view)   \n",
       "6                                                         listing_page (page_view) > listing_page (page_view) > listing_page (page_view)   \n",
       "7                              product_page (page_view) > product_page (page_view) > product_page (page_view) > product_page (page_view)   \n",
       "8                                                                                    listing_page (page_view) > product_page (page_view)   \n",
       "9                                                                      search_listing_page (page_view) > search_listing_page (page_view)   \n",
       "10                                                                            listing_page (page_view) > search_listing_page (page_view)   \n",
       "11  product_page (page_view) > product_page (page_view) > product_page (page_view) > product_page (page_view) > product_page (page_view)   \n",
       "12                                   search_listing_page (page_view) > search_listing_page (page_view) > search_listing_page (page_view)   \n",
       "13                                                                                                                    order_page (order)   \n",
       "14                             listing_page (page_view) > listing_page (page_view) > listing_page (page_view) > listing_page (page_view)   \n",
       "\n",
       "     count  \n",
       "0   138601  \n",
       "1   104762  \n",
       "2    17680  \n",
       "3    13561  \n",
       "4     6028  \n",
       "5     5893  \n",
       "6     2743  \n",
       "7     2466  \n",
       "8     2277  \n",
       "9     1891  \n",
       "10    1707  \n",
       "11    1271  \n",
       "12    1227  \n",
       "13     943  \n",
       "14     934  "
      ]
     },
     "execution_count": 37,
     "metadata": {},
     "output_type": "execute_result"
    }
   ],
   "source": [
    "\n",
    "df_sorted = df.sort_values(['session', 'event_date'])\n",
    "\n",
    "session_paths = df_sorted.groupby('session')['page_event_type'].apply(list).reset_index()\n",
    "\n",
    "session_paths['path'] = session_paths['page_event_type'].apply(lambda x: ' > '.join(x))\n",
    "\n",
    "path_counts = session_paths['path'].value_counts().reset_index()\n",
    "\n",
    "path_counts.columns = ['path', 'count']\n",
    "\n",
    "path_counts.head(15)\n"
   ]
  }
 ],
 "metadata": {
  "kernelspec": {
   "display_name": ".venv",
   "language": "python",
   "name": "python3"
  },
  "language_info": {
   "codemirror_mode": {
    "name": "ipython",
    "version": 3
   },
   "file_extension": ".py",
   "mimetype": "text/x-python",
   "name": "python",
   "nbconvert_exporter": "python",
   "pygments_lexer": "ipython3",
   "version": "3.12.10"
  }
 },
 "nbformat": 4,
 "nbformat_minor": 5
}
